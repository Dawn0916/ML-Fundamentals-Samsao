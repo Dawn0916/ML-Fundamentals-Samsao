{
 "cells": [
  {
   "cell_type": "code",
   "execution_count": 1,
   "id": "33df2694-361b-4bd1-9729-a8500bd8f45f",
   "metadata": {},
   "outputs": [],
   "source": [
    "#Exercise - Housing Prices Competition for Kaggle Learn Users"
   ]
  },
  {
   "cell_type": "markdown",
   "id": "717f5d09-b28a-4c04-96e9-c2fa17bebec6",
   "metadata": {},
   "source": [
    "##### To Do\n",
    "\n",
    "- Load in the train data for the Housing prices Competition.\n",
    "- Understand the data\n",
    "- build a model on train data\n",
    "- make prediction on test\n",
    "- submit predictions on the kaggle competition."
   ]
  },
  {
   "cell_type": "code",
   "execution_count": null,
   "id": "6c192b1e-e6dc-459e-988a-7b594fae4aa3",
   "metadata": {},
   "outputs": [],
   "source": []
  }
 ],
 "metadata": {
  "kernelspec": {
   "display_name": "Python 3 (ipykernel)",
   "language": "python",
   "name": "python3"
  },
  "language_info": {
   "codemirror_mode": {
    "name": "ipython",
    "version": 3
   },
   "file_extension": ".py",
   "mimetype": "text/x-python",
   "name": "python",
   "nbconvert_exporter": "python",
   "pygments_lexer": "ipython3",
   "version": "3.7.16"
  }
 },
 "nbformat": 4,
 "nbformat_minor": 5
}
