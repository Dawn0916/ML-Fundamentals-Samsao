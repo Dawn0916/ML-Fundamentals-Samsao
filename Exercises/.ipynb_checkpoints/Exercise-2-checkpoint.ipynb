{
 "cells": [
  {
   "cell_type": "markdown",
   "id": "1f8cf5b0-3c66-495a-8bed-a5dbe1e83886",
   "metadata": {},
   "source": [
    "##### To Do\n",
    "\n",
    "- Load in the train data for the Housing prices Competition.\n",
    "- Understand the data\n",
    "- Using the skills learnt, improve on your submission from exercise 1\n",
    "- build a model on train data\n",
    "- make prediction on test\n",
    "- submit predictions on the kaggle competition."
   ]
  },
  {
   "cell_type": "code",
   "execution_count": null,
   "id": "3fac9b58-b991-42b8-99e0-1b015b97ec3b",
   "metadata": {},
   "outputs": [],
   "source": []
  }
 ],
 "metadata": {
  "kernelspec": {
   "display_name": "Python 3 (ipykernel)",
   "language": "python",
   "name": "python3"
  },
  "language_info": {
   "codemirror_mode": {
    "name": "ipython",
    "version": 3
   },
   "file_extension": ".py",
   "mimetype": "text/x-python",
   "name": "python",
   "nbconvert_exporter": "python",
   "pygments_lexer": "ipython3",
   "version": "3.7.16"
  }
 },
 "nbformat": 4,
 "nbformat_minor": 5
}
